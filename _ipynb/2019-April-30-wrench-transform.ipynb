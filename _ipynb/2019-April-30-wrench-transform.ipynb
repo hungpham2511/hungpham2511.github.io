{
 "cells": [
  {
   "cell_type": "markdown",
   "metadata": {},
   "source": [
    "# Problem overview\n",
    "\n",
    "Given two frames $\\{M\\}$ and $\\{F\\}$, suppose a wrench $(f, m)$ acts on the origin\n",
    "of frame $\\{F\\}$, what is the equivalent wrench at frame $\\{M\\}$?\n",
    "\n",
    "We first look at the force and moment as pure vectors without coordinate. Let $f', m'$\n",
    "be the equivalent force and moment at frame $\\{M\\}$, one has the following equation\n",
    "\n",
    "$$\n",
    "f' = f \\\\\n",
    "m' = m + p \\times f\n",
    "$$\n",
    "\n",
    "where $p$ is the vector originating from the origin of frame $\\{F\\}$ and ending at the origin\n",
    "of frame $\\{M\\}$.\n",
    "\n",
    "These equations follow directly from force and moment-equilibrium equations.\n",
    "\n",
    "In order to carry out numerical computations, it is necessary to re-write these\n",
    "equations as coordinates in some coordinates system. Notice that the coordinates of\n",
    "$(f, m)$ in frame $\\{F\\}$, we can start by re-writing the right hand-side in this\n",
    "coordinate. Indeed, let $f_F, p_F, m_F$ denote respectively column vectors containing\n",
    "the coordinates, one has that:\n",
    "\n",
    "$$\n",
    "f_F \\\\\n",
    "m_F + p_F \\times f_F\n",
    "$$\n",
    "\n",
    "We have obtain the coordiantes of $(f', m')$ in frame $\\{F\\}$. What's left to be done\n",
    "is to convert these to coordinates in frame $\\{M\\}$. This is done easily using the rotation\n",
    "matrix $R_{MF}$: The axes of frames $F$ in coordinate system of frame $M$. Hence one has:\n",
    "\n",
    "$$\n",
    "R_{MF} f_F \\\\\n",
    "R_{MF} (m_F + p_F \\times f_F)\n",
    "$$\n",
    "\n",
    "Rearranging the term, we can derive a linear mapping from wrench coordinates directly:\n",
    "\n",
    "$$\n",
    "\\begin{bmatrix} R_{MF} & 0 \\\\ R_{MF} [p_F] & R_{MF}\n",
    "\\end{bmatrix}\n",
    "$$"
   ]
  },
  {
   "cell_type": "markdown",
   "metadata": {},
   "source": [
    "# Code\n",
    "\n",
    "Nothing beats some code. We now look at some code example."
   ]
  },
  {
   "cell_type": "code",
   "execution_count": 2,
   "metadata": {},
   "outputs": [],
   "source": [
    "import numpy as np\n",
    "\n",
    "def wrench_transform(transform_FM):\n",
    "    \"\"\"Return the 6x6 wrench transform.\n",
    "    \"\"\"\n",
    "    \n",
    "    R_FM = transform_FM[:3, :3]\n",
    "    p_FM = transform_FM[:3, 3]\n",
    "    R_MF = R_FM.T\n",
    "    \n",
    "    # https://en.wikipedia.org/wiki/Cross_product\n",
    "    a1, a2, a3 = p_FM\n",
    "    p_FM_cross = np.array([[0, -a3, a2],\n",
    "                           [a3, 0, -a1],\n",
    "                           [-a2, a1, 0]])\n",
    "    \n",
    "    wrench_mapping = np.zeros((6, 6))\n",
    "    wrench_mapping[:3, :3] = R_MF\n",
    "    wrench_mapping[3:, :3] = np.dot(R_MF, p_FM_cross)\n",
    "    wrench_mapping[3:, 3:] = R_MF\n",
    "    return wrench_mapping"
   ]
  },
  {
   "cell_type": "markdown",
   "metadata": {},
   "source": [
    "## Example 1: M and F coincide\n",
    "\n",
    "the mapping should be the identity matrix."
   ]
  },
  {
   "cell_type": "code",
   "execution_count": 4,
   "metadata": {},
   "outputs": [
    {
     "name": "stdout",
     "output_type": "stream",
     "text": [
      "[[1. 0. 0. 0. 0. 0.]\n",
      " [0. 1. 0. 0. 0. 0.]\n",
      " [0. 0. 1. 0. 0. 0.]\n",
      " [0. 0. 0. 1. 0. 0.]\n",
      " [0. 0. 0. 0. 1. 0.]\n",
      " [0. 0. 0. 0. 0. 1.]]\n"
     ]
    }
   ],
   "source": [
    "transform_FM = np.eye(4)\n",
    "mapping = wrench_transform(transform_FM)\n",
    "print(mapping)"
   ]
  },
  {
   "cell_type": "markdown",
   "metadata": {},
   "source": [
    "## Example 2: F is 2 along the y-axis of M\n"
   ]
  },
  {
   "cell_type": "code",
   "execution_count": 8,
   "metadata": {},
   "outputs": [
    {
     "name": "stdout",
     "output_type": "stream",
     "text": [
      "[[ 1.  0.  0.  0.  0.  0.]\n",
      " [ 0.  1.  0.  0.  0.  0.]\n",
      " [ 0.  0.  1.  0.  0.  0.]\n",
      " [ 0.  0.  2.  1.  0.  0.]\n",
      " [ 0.  0.  0.  0.  1.  0.]\n",
      " [-2.  0.  0.  0.  0.  1.]]\n",
      "[-1.  0.  0.  0.  0.  2.]\n"
     ]
    }
   ],
   "source": [
    "transform_FM = np.eye(4)\n",
    "transform_FM[:3, 3] = [0, 2, 0]\n",
    "\n",
    "mapping = wrench_transform(transform_FM)\n",
    "print(mapping)\n",
    "\n",
    "wrench = [-1, 0, 0, 0, 0, 0]\n",
    "print(np.dot(mapping, wrench))"
   ]
  },
  {
   "cell_type": "code",
   "execution_count": null,
   "metadata": {},
   "outputs": [],
   "source": []
  },
  {
   "cell_type": "code",
   "execution_count": null,
   "metadata": {},
   "outputs": [],
   "source": []
  },
  {
   "cell_type": "code",
   "execution_count": null,
   "metadata": {},
   "outputs": [],
   "source": []
  },
  {
   "cell_type": "code",
   "execution_count": null,
   "metadata": {},
   "outputs": [],
   "source": []
  },
  {
   "cell_type": "code",
   "execution_count": null,
   "metadata": {},
   "outputs": [],
   "source": []
  },
  {
   "cell_type": "code",
   "execution_count": null,
   "metadata": {},
   "outputs": [],
   "source": []
  },
  {
   "cell_type": "code",
   "execution_count": null,
   "metadata": {},
   "outputs": [],
   "source": []
  },
  {
   "cell_type": "code",
   "execution_count": null,
   "metadata": {},
   "outputs": [],
   "source": []
  }
 ],
 "metadata": {
  "author": "mes",
  "kernelspec": {
   "display_name": "Python 3",
   "language": "python",
   "name": "python3"
  },
  "language_info": {
   "codemirror_mode": {
    "name": "ipython",
    "version": 3
   },
   "file_extension": ".py",
   "mimetype": "text/x-python",
   "name": "python",
   "nbconvert_exporter": "python",
   "pygments_lexer": "ipython3",
   "version": "3.5.2"
  },
  "latex_envs": {
   "LaTeX_envs_menu_present": true,
   "autoclose": false,
   "autocomplete": true,
   "bibliofile": "biblio.bib",
   "cite_by": "apalike",
   "current_citInitial": 1,
   "eqLabelWithNumbers": true,
   "eqNumInitial": 1,
   "hotkeys": {
    "equation": "Ctrl-E",
    "itemize": "Ctrl-I"
   },
   "labels_anchors": false,
   "latex_user_defs": false,
   "report_style_numbering": false,
   "user_envs_cfg": false
  }
 },
 "nbformat": 4,
 "nbformat_minor": 2
}
